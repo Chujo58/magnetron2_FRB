{
 "cells": [
  {
   "cell_type": "code",
   "execution_count": null,
   "id": "3d7867c0",
   "metadata": {},
   "outputs": [],
   "source": [
    "import matplotlib.pyplot as plt\n",
    "import seaborn as sns\n",
    "\n",
    "sns.set_style(\"whitegrid\")\n",
    "\n",
    "import numpy as np\n",
    "import pandas as pd\n",
    "import json\n",
    "from scipy.special import erf"
   ]
  },
  {
   "cell_type": "code",
   "execution_count": null,
   "id": "d11a84e1",
   "metadata": {},
   "outputs": [],
   "source": [
    "def twoexp(time, theta):\n",
    "    \"\"\"The model method contains the actual function definition.\n",
    "    Returns a numpy-array of size len(self.times)\n",
    "    Parameters:\n",
    "    event_time = start time of word relative to start time of time series\n",
    "    scale = horizontal scale parameter to stretch/compress word\n",
    "    skew = skewness parameter: how much faster is the rise than the decay?\n",
    "    \"\"\"\n",
    "    t0 = theta[0]\n",
    "    amp = theta[1]\n",
    "    scale = theta[2]\n",
    "    skew = theta[3]\n",
    "\n",
    "    t = (time - t0) / scale\n",
    "    y = np.zeros_like(t)\n",
    "    y[t <= 0] = np.exp(t[t <= 0])\n",
    "    y[t > 0] = np.exp(-t[t > 0] / skew)\n",
    "\n",
    "    y = np.array(y) * amp\n",
    "\n",
    "    return y\n",
    "\n",
    "def model(time, theta):\n",
    "    t0 = theta[0]\n",
    "    amp = theta[1]\n",
    "    rise = theta[2]\n",
    "    skew = theta[3]\n",
    "\n",
    "    t = (time - t0)\n",
    "    erf_inner = skew * (t/rise)/np.sqrt(2)\n",
    "    cdf = 0.5 * (1+ erf(erf_inner))\n",
    "    pdf_fac = 1.0 / (rise * np.pow(2*np.pi, 0.5))\n",
    "    pdf = pdf_fac * np.exp(-np.pow(t,2)) / (2*np.pow(rise,2))\n",
    "    return amp * 2 * pdf * cdf"
   ]
  },
  {
   "cell_type": "code",
   "execution_count": null,
   "id": "3cf03664-350d-4b94-8206-638610f14b66",
   "metadata": {},
   "outputs": [],
   "source": [
    "import dnest4\n",
    "dnest4.postprocess()"
   ]
  },
  {
   "cell_type": "markdown",
   "id": "d2065b17",
   "metadata": {},
   "source": [
    "#### Loading the data saved in the `.json` file"
   ]
  },
  {
   "cell_type": "code",
   "execution_count": null,
   "id": "c33df321",
   "metadata": {},
   "outputs": [],
   "source": [
    "data = json.load(open(\"temp.json\"))\n",
    "time = np.array(data[\"times\"])\n",
    "ytrue = np.array(data[\"profile\"])\n",
    "yerr = np.array(data[\"std\"])"
   ]
  },
  {
   "cell_type": "code",
   "execution_count": null,
   "id": "b908aec3-b0bb-45b0-a243-929b09fc4863",
   "metadata": {},
   "outputs": [],
   "source": [
    "data['eid']"
   ]
  },
  {
   "cell_type": "code",
   "execution_count": null,
   "id": "00e1eed3",
   "metadata": {},
   "outputs": [],
   "source": [
    "# plt.errorbar(time, ytrue, yerr=yerr, fmt=\".\", label=\"Profile with errorbars\")\n",
    "plt.fill_between(time, ytrue-yerr, ytrue+yerr, alpha=0.5, color='blue')\n",
    "plt.plot(time, ytrue, c=\"black\", label=\"Profile\")\n",
    "plt.xlabel(\"Time (s)\")\n",
    "plt.ylabel(\"Time profile\")\n",
    "plt.legend()\n",
    "plt.title(\"Time profile of burst loaded in temp.json\")\n",
    "plt.show()"
   ]
  },
  {
   "cell_type": "markdown",
   "id": "06969fd6",
   "metadata": {},
   "source": [
    "#### Loading the posterior sample"
   ]
  },
  {
   "cell_type": "code",
   "execution_count": null,
   "id": "03028aa8",
   "metadata": {},
   "outputs": [],
   "source": [
    "sample = np.loadtxt(\"100b_10k_results/posterior_sample.txt\", skiprows=2)\n",
    "print(f\"Number of sample saved in 'posterior_sample.txt': {sample.shape[0]}.\")"
   ]
  },
  {
   "cell_type": "code",
   "execution_count": null,
   "id": "22ded3a2",
   "metadata": {},
   "outputs": [],
   "source": [
    "background = sample[:, 0]\n",
    "\n",
    "# Number of dimensions for a single component\n",
    "burst_dims = list(set(sample[:, 1]))[0]\n",
    "\n",
    "# Maximum number of components allowed for the model\n",
    "max_components = int(list(set(sample[:, 2]))[0])\n",
    "\n",
    "# Now loading back the hyper parameters:\n",
    "# hyper-parameter (mean) of the exponential distribution used\n",
    "# as prior for the spike amplitudes\n",
    "# NOTE: IN LINEAR SPACE, NOT LOG\n",
    "hyper_mean_amplitude = sample[:, 3]\n",
    "\n",
    "# hyper-parameter (mean) for the exponential distribution used\n",
    "# as prior for the spike rise time\n",
    "# NOTE: IN LINEAR SPACE, NOT LOG\n",
    "hyper_mean_risetime = sample[:, 4]\n",
    "\n",
    "# hyper-parameters for the lower and upper limits of the uniform\n",
    "# distribution osed as a prior for the skew\n",
    "hyper_lowerlimit_skew = sample[:, 7]\n",
    "hyper_upperlimit_skew = sample[:, 8]\n",
    "\n",
    "# Distribution of the number of components:\n",
    "nbursts = sample[:, 9]\n",
    "\n",
    "# individual burst parameters for all 100 components\n",
    "npos = sample[:, 10:10+max_components]  # peak position for all burst components\n",
    "amp = sample[:, 10+max_components:10+max_components*2]  # amplitude for all burst components\n",
    "scale = sample[:, 10+max_components*2:10+max_components*3]  # rise time for all burst components\n",
    "skew = sample[:, 10+max_components*3:10+max_components*4]  # skewness parameter for all burst components\n",
    "\n",
    "# put all of the parameters together\n",
    "pars_all = np.array([npos, amp, scale, skew]).T\n",
    "\n",
    "# # all of the mean models\n",
    "ymodel_all = sample[:, -len(time) :]  # model flux"
   ]
  },
  {
   "cell_type": "code",
   "execution_count": null,
   "id": "34c8b305",
   "metadata": {},
   "outputs": [],
   "source": [
    "fig, axes = plt.subplots(2, 2, figsize=(10, 10))\n",
    "\n",
    "axes = np.hstack(axes)\n",
    "\n",
    "axes[0].hist(background, bins=20)\n",
    "axes[0].set_title(\"background parameter\")\n",
    "\n",
    "axes[1].hist(hyper_mean_amplitude, bins=20)\n",
    "axes[1].set_title(\"mean amplitude hyperparameter\")\n",
    "\n",
    "axes[2].hist(hyper_mean_risetime, bins=20)\n",
    "axes[2].set_title(\"mean rise time hyperparameter\")\n",
    "\n",
    "unique_values, counts = np.unique(nbursts, return_counts=True)\n",
    "\n",
    "# axes[3].hist(nbursts, bins=max_components-1)\n",
    "axes[3].bar(unique_values, counts)\n",
    "axes[3].set_title(\"number of components\")\n",
    "plt.show()"
   ]
  },
  {
   "cell_type": "code",
   "execution_count": null,
   "id": "a0c771b8-68ba-4448-aa2e-cabb7d0cb46e",
   "metadata": {},
   "outputs": [],
   "source": [
    "plt.bar(unique_values, counts)\n",
    "plt.title(\"Distribution of number of components\")\n",
    "plt.xlabel(\"Number of components\")\n",
    "plt.ylabel(\"Counts\")\n",
    "plt.savefig(\"hist.jpg\")"
   ]
  },
  {
   "cell_type": "code",
   "execution_count": null,
   "id": "9630d90b",
   "metadata": {},
   "outputs": [],
   "source": [
    "fig, ax = plt.subplots(1, 1, figsize=(6, 4))\n",
    "\n",
    "ax.plot(time, ytrue)\n",
    "for i in range(3):\n",
    "    ax.plot(time, ymodel_all[i, :], label=f'Model {i}  N:{int(nbursts[i])}')\n",
    "plt.legend()"
   ]
  },
  {
   "cell_type": "code",
   "execution_count": null,
   "id": "891cca59",
   "metadata": {},
   "outputs": [],
   "source": [
    "fig, ax = plt.subplots(1, 1, figsize=(6, 4))\n",
    "yfinal = ymodel_all.mean(0)\n",
    "ax.plot(time, ytrue)\n",
    "ax.plot(time, yfinal)"
   ]
  },
  {
   "cell_type": "code",
   "execution_count": null,
   "id": "bf9a8dd8-f0a8-462e-ba72-810eec939588",
   "metadata": {},
   "outputs": [],
   "source": [
    "fig, ax = plt.subplots(1, 1, figsize=(6, 4))\n",
    "yfinal2 = np.median(sample, axis=0)\n",
    "\n",
    "ax.plot(time, ytrue)\n",
    "# ax.plot(time, yfinal2)\n",
    "# individual burst parameters for all 100 components\n",
    "m_npos = yfinal2[10:10+max_components]  # peak position for all burst components\n",
    "m_amp = yfinal2[10+max_components:10+max_components*2]  # amplitude for all burst components\n",
    "m_scale = yfinal2[10+max_components*2:10+max_components*3]  # rise time for all burst components\n",
    "m_skew = yfinal2[10+max_components*3:10+max_components*4]  # skewness parameter for all burst components\n",
    "\n",
    "for pos, amp, scale, skew in zip(m_npos, m_amp, m_scale, m_skew):\n",
    "    if pos != 0:\n",
    "        # print(pos, amp, scale, skew)\n",
    "        ax.plot(time, yfinal2[0]+twoexp(time, [pos, np.pow(1e20, amp), scale, skew]))\n",
    "\n",
    "ax.plot(time, yfinal2[-len(time):])"
   ]
  },
  {
   "cell_type": "code",
   "execution_count": null,
   "id": "aa7cde57-b3ae-405d-8889-8b16722af9a2",
   "metadata": {},
   "outputs": [],
   "source": [
    "from findpeaks import findpeaks\n",
    "fp = findpeaks(method='topology', lookahead=1)\n",
    "results = fp.fit(yfinal)\n",
    "# Plot\n",
    "fp.plot1d()"
   ]
  },
  {
   "cell_type": "code",
   "execution_count": null,
   "id": "b8b91486-664c-40f2-a06a-e9e1682c341f",
   "metadata": {},
   "outputs": [],
   "source": [
    "df = results['df']"
   ]
  },
  {
   "cell_type": "code",
   "execution_count": null,
   "id": "54b8248e-ee2d-4109-a5aa-54c136aa29e1",
   "metadata": {},
   "outputs": [],
   "source": [
    "filtered = df[df['peak']][~df['valley']][df['score'] >= 0.25].sort_values(by='rank')"
   ]
  },
  {
   "cell_type": "code",
   "execution_count": null,
   "id": "0a7410d2-f462-4cd6-a846-3680d307086f",
   "metadata": {},
   "outputs": [],
   "source": [
    "filtered"
   ]
  },
  {
   "cell_type": "code",
   "execution_count": null,
   "id": "c30bc2e8-58dd-43cd-a1d3-119b8de444cd",
   "metadata": {},
   "outputs": [],
   "source": [
    "plt.plot(time, ytrue, label=\"Data\")\n",
    "plt.plot(time, yfinal, label=\"Model\")\n",
    "for p in filtered['x'].tolist():\n",
    "    plt.axvline(time[p], c='grey', ls='--')\n",
    "plt.xlabel(\"Time (s)\")\n",
    "plt.ylabel(\"SNR\")\n",
    "plt.title(f\"Time profile\")\n",
    "plt.legend()\n",
    "# plt.savefig(\"test.jpg\")"
   ]
  },
  {
   "cell_type": "code",
   "execution_count": null,
   "id": "805ec83a-4957-480f-8a86-10ed95908917",
   "metadata": {},
   "outputs": [],
   "source": [
    "writer = ocf.npz_writer()\n",
    "writer.set_data(r.data_full, r.times, r.freqs, r.res_time, r.res_freq)\n",
    "writer.update_burst_parameters(\n",
    "    arrival_time=r.times[filtered['x']]\n",
    ")\n",
    "# writer.burst_parameters\n",
    "# writer.save(\"/arc/home/clegue/auto-bb-fitburst/npz_edited/245936178_copy.npz\")"
   ]
  },
  {
   "cell_type": "code",
   "execution_count": null,
   "id": "ddd5d2e8-763f-4d4d-a03f-3d50ef09e94f",
   "metadata": {},
   "outputs": [],
   "source": [
    "r = ocf.npz_reader(\"temp.npz\")\n",
    "sns.set_style(\"white\")\n",
    "p = ocf.waterfall_axes()\n",
    "p.plot(r)\n",
    "# p.save(\"image.jpg\")"
   ]
  }
 ],
 "metadata": {
  "kernelspec": {
   "display_name": "base",
   "language": "python",
   "name": "base"
  },
  "language_info": {
   "codemirror_mode": {
    "name": "ipython",
    "version": 3
   },
   "file_extension": ".py",
   "mimetype": "text/x-python",
   "name": "python",
   "nbconvert_exporter": "python",
   "pygments_lexer": "ipython3",
   "version": "3.13.2"
  }
 },
 "nbformat": 4,
 "nbformat_minor": 5
}
