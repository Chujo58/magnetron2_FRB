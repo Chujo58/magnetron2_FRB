{
 "cells": [
  {
   "cell_type": "code",
   "execution_count": null,
   "id": "5958be0a-a9e2-4425-befa-820e83271bc4",
   "metadata": {},
   "outputs": [],
   "source": [
    "import matplotlib.pyplot as plt\n",
    "import seaborn as sns\n",
    "\n",
    "# sns.set_style(\"whitegrid\")"
   ]
  },
  {
   "cell_type": "code",
   "execution_count": null,
   "id": "2cf03e06-b701-41e9-ab7a-6f32adeae808",
   "metadata": {},
   "outputs": [],
   "source": [
    "import numpy as np\n",
    "import pandas as pd\n",
    "import json\n",
    "from scipy.special import erf\n",
    "from scipy.signal import peak_prominences\n",
    "from findpeaks import findpeaks\n",
    "import oscfar as ocf"
   ]
  },
  {
   "cell_type": "code",
   "execution_count": null,
   "id": "241d348e-4fd7-4207-891e-54889f441469",
   "metadata": {},
   "outputs": [],
   "source": [
    "ocf.__version__"
   ]
  },
  {
   "cell_type": "code",
   "execution_count": null,
   "id": "77acbaa9-fa2d-403a-93fd-98fcecd74c75",
   "metadata": {},
   "outputs": [],
   "source": [
    "# Get the folders:\n",
    "import os\n",
    "\n",
    "results_folders = [f for f in os.listdir() if os.path.isdir(f) and 'results_' in f]"
   ]
  },
  {
   "cell_type": "code",
   "execution_count": null,
   "id": "7294a387-3042-43af-b8ab-e8420090ce46",
   "metadata": {},
   "outputs": [],
   "source": [
    "json_files = [f for f in os.listdir() if '.json' in f and 'temp' not in f]\n",
    "for file in json_files:\n",
    "    data = json.load(open(file))\n",
    "    print(data['eid'])"
   ]
  },
  {
   "cell_type": "code",
   "execution_count": null,
   "id": "f8a2402a-c645-4e20-8b46-25b4180b863e",
   "metadata": {},
   "outputs": [],
   "source": [
    "writers = []\n",
    "final_peaks = []\n",
    "titles = []\n",
    "models = []\n",
    "convert = []\n",
    "models_dict = {}\n",
    "\n",
    "class Model:\n",
    "    def __init__(self, model):\n",
    "        self.model = model\n",
    "for r in results_folders:\n",
    "    # try:\n",
    "    data = json.load(open(f\"{r}/temp.json\"))\n",
    "    time = data['times']\n",
    "    \n",
    "    print(r,data['eid'])\n",
    "    eid = data['eid']\n",
    "    titles.append(data['eid'])\n",
    "    sample = np.loadtxt(f\"{r}/posterior_sample_{data['eid']}.txt\")\n",
    "    model = sample[:, -len(time):].mean(0)\n",
    "\n",
    "    models.append(Model(model))\n",
    "    models_dict[eid] = model\n",
    "    fp = findpeaks(method='topology', lookahead=1)\n",
    "    results = fp.fit(model)\n",
    "    fp.plot1d()\n",
    "    \n",
    "    df = results['df']\n",
    "    peaks = df[df['peak']][~df['valley']]#[df['score']>=0.01].sort_values(by='rank')\n",
    "    prominences = np.zeros(len(df))\n",
    "    peak_prominence_values, _, _ = peak_prominences(model, peaks['x'].tolist())\n",
    "    for i, x in enumerate(peaks['x'].tolist()):\n",
    "        prominences[x] = peak_prominence_values[i]\n",
    "    \n",
    "\n",
    "    df.insert(2, 'prominence', prominences)\n",
    "    filtered = df[df['peak']][~df['valley']][df['prominence'] > 0.1]\n",
    "    print(filtered)\n",
    "\n",
    "    fig = plt.figure()\n",
    "    plt.plot(time,data['profile'])\n",
    "    \n",
    "    plt.plot(time,model)\n",
    "    plt.title(f\"Time profile for event {data['eid']}\")\n",
    "    plt.xlabel(\"Time (s)\")\n",
    "    plt.ylabel(\"SNR\")\n",
    "    for p in filtered['x'].tolist():\n",
    "        plt.axvline(time[p], c='grey', ls='--')\n",
    "\n",
    "    fig = plt.figure()\n",
    "    u, c = np.unique(sample[:,9], return_counts=True)\n",
    "    plt.bar(u,c)\n",
    "    plt.title(f\"Components for {data['eid']}\")\n",
    "    plt.xlabel(\"Number of components\")\n",
    "    plt.ylabel(\"Counts\")\n",
    "\n",
    "    w = ocf.npz_writer(data['npz'])\n",
    "    w.update_burst_parameters(\n",
    "        arrival_time=(filtered['x'] * w.res_time).tolist()\n",
    "    )\n",
    "    w.save(f\"/arc/home/clegue/auto-bb-fitburst/npz_edited/{eid}.npz\")\n",
    "    writers.append(w)\n",
    "    final_peaks.append(ocf.peaks((filtered['x'],None)))\n",
    "    convert.append(np.max(w.data_full.sum(0))/np.max(data['profile']))\n",
    "    # except:\n",
    "    #     continue\n"
   ]
  },
  {
   "cell_type": "code",
   "execution_count": null,
   "id": "9e31f4db-1beb-4f9e-b39e-fa53a8a29942",
   "metadata": {},
   "outputs": [],
   "source": [
    "sns.set_style(\"white\")\n",
    "ocf.utils.WaterFallImage.cmap = 'viridis'\n",
    "plt.figure(figsize=(20,30))\n",
    "grid = ocf.waterfall_grid(5,2)\n",
    "grid.plot(writers, final_peaks, titles, 'black', adjust_t=0.1)\n",
    "m = np.array(models).reshape(5,2)\n",
    "r = np.array(writers).reshape(5,2)\n",
    "c = np.array(convert).reshape(5,2)\n",
    "for i, row in enumerate(m):\n",
    "    for j, col in enumerate(row):\n",
    "        grid.axes[i,j].ts.plot(r[i,j].times, col.model*c[i,j])\n",
    "# plt.savefig(\"grid_image.jpg\")"
   ]
  },
  {
   "cell_type": "code",
   "execution_count": null,
   "id": "0be305f4-7092-4b89-aa3f-31fa852a9db9",
   "metadata": {},
   "outputs": [],
   "source": [
    "import sys\n",
    "sys.path.append(\"/arc/home/clegue/auto-bb-fitburst/grid_pdf\")"
   ]
  },
  {
   "cell_type": "code",
   "execution_count": null,
   "id": "27b961a3-a1b6-43ea-aabf-63ab39c865e8",
   "metadata": {},
   "outputs": [],
   "source": [
    "from grid_methods import *"
   ]
  },
  {
   "cell_type": "code",
   "execution_count": null,
   "id": "78b2afae-8d94-488e-bc01-c78781257108",
   "metadata": {},
   "outputs": [],
   "source": [
    "def plot(eid, grid, loc, model, fitburst=False):\n",
    "    plot_data(eid, grid, loc, fitburst, False, True)\n",
    "    dt = ocf.npz_reader(f\"/arc/home/clegue/auto-bb-fitburst/npz_edited/{eid}.npz\")\n",
    "    plot_in_ts(grid, loc, dt.times, model, lw=4)\n",
    "    # plot_grid()"
   ]
  },
  {
   "cell_type": "code",
   "execution_count": null,
   "id": "d98914be-66e8-4386-a8cf-b4f6c6bfe882",
   "metadata": {},
   "outputs": [],
   "source": [
    "%matplotlib inline\n",
    "\n",
    "ylabel = \"Frequency (MHz)\"\n",
    "xlabel = \"Time (s)\"\n",
    "\n",
    "plt.figure(figsize=(25,15))\n",
    "grid = create_grid(1,3, xlabel, ylabel)\n",
    "eid = 71571699\n",
    "plot(eid, grid, (0,0), models_dict[eid], True)\n",
    "plt.show()"
   ]
  },
  {
   "cell_type": "code",
   "execution_count": null,
   "id": "00d67b60-d821-4387-be90-cee1a19aa684",
   "metadata": {},
   "outputs": [],
   "source": []
  }
 ],
 "metadata": {
  "kernelspec": {
   "display_name": "base",
   "language": "python",
   "name": "base"
  },
  "language_info": {
   "codemirror_mode": {
    "name": "ipython",
    "version": 3
   },
   "file_extension": ".py",
   "mimetype": "text/x-python",
   "name": "python",
   "nbconvert_exporter": "python",
   "pygments_lexer": "ipython3",
   "version": "3.13.2"
  }
 },
 "nbformat": 4,
 "nbformat_minor": 5
}
